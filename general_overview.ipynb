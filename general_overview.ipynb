{
 "cells": [
  {
   "cell_type": "code",
   "execution_count": 18,
   "id": "598f947c",
   "metadata": {},
   "outputs": [
    {
     "data": {
      "text/plain": [
       "Country                                 object\n",
       "Year                                     int64\n",
       "Attack Type                             object\n",
       "Target Industry                         object\n",
       "Financial Loss (in Million $)          float64\n",
       "Number of Affected Users                 int64\n",
       "Attack Source                           object\n",
       "Security Vulnerability Type             object\n",
       "Defense Mechanism Used                  object\n",
       "Incident Resolution Time (in Hours)      int64\n",
       "dtype: object"
      ]
     },
     "execution_count": 18,
     "metadata": {},
     "output_type": "execute_result"
    }
   ],
   "source": [
    "import pandas as pd\n",
    "from pathlib import Path\n",
    "\n",
    "data_file = Path('Data') / 'Global_Cybersecurity_Threats_2015-2024.csv'\n",
    "df = pd.read_csv(data_file)\n",
    "df.dtypes"
   ]
  },
  {
   "cell_type": "markdown",
   "id": "fbf7eb65",
   "metadata": {},
   "source": [
    "# Display basic information about the dataset"
   ]
  },
  {
   "cell_type": "code",
   "execution_count": 19,
   "id": "53c519b0",
   "metadata": {},
   "outputs": [
    {
     "name": "stdout",
     "output_type": "stream",
     "text": [
      "Dataset Overview:\n",
      "Number of records: 3000\n",
      "Time period: 2015 to 2024\n",
      "Number of countries: 10\n"
     ]
    }
   ],
   "source": [
    "print(\"Dataset Overview:\")\n",
    "print(f\"Number of records: {len(df)}\")\n",
    "print(f\"Time period: {df['Year'].min()} to {df['Year'].max()}\")\n",
    "print(f\"Number of countries: {df['Country'].nunique()}\")"
   ]
  },
  {
   "cell_type": "markdown",
   "id": "46e0a425",
   "metadata": {},
   "source": [
    "# Dataset Sample"
   ]
  },
  {
   "cell_type": "code",
   "execution_count": 20,
   "id": "15f2b4bd",
   "metadata": {},
   "outputs": [
    {
     "name": "stdout",
     "output_type": "stream",
     "text": [
      "   Country  Year        Attack Type     Target Industry  \\\n",
      "0    China  2019           Phishing           Education   \n",
      "1    China  2019         Ransomware              Retail   \n",
      "2    India  2017  Man-in-the-Middle                  IT   \n",
      "3       UK  2024         Ransomware  Telecommunications   \n",
      "4  Germany  2018  Man-in-the-Middle                  IT   \n",
      "\n",
      "   Financial Loss (in Million $)  Number of Affected Users Attack Source  \\\n",
      "0                          80.53                    773169  Hacker Group   \n",
      "1                          62.19                    295961  Hacker Group   \n",
      "2                          38.65                    605895  Hacker Group   \n",
      "3                          41.44                    659320  Nation-state   \n",
      "4                          74.41                    810682       Insider   \n",
      "\n",
      "  Security Vulnerability Type Defense Mechanism Used  \\\n",
      "0          Unpatched Software                    VPN   \n",
      "1          Unpatched Software               Firewall   \n",
      "2              Weak Passwords                    VPN   \n",
      "3          Social Engineering     AI-based Detection   \n",
      "4          Social Engineering                    VPN   \n",
      "\n",
      "   Incident Resolution Time (in Hours)  \n",
      "0                                   63  \n",
      "1                                   71  \n",
      "2                                   20  \n",
      "3                                    7  \n",
      "4                                   68  \n"
     ]
    }
   ],
   "source": [
    "print(df.head())"
   ]
  },
  {
   "cell_type": "markdown",
   "id": "c4b3bb34",
   "metadata": {},
   "source": [
    "# Summary statistics for numerical columns"
   ]
  },
  {
   "cell_type": "code",
   "execution_count": 22,
   "id": "8e6c84ab",
   "metadata": {},
   "outputs": [
    {
     "name": "stdout",
     "output_type": "stream",
     "text": [
      "       Financial Loss (in Million $)  Number of Affected Users  \\\n",
      "count                    3000.000000               3000.000000   \n",
      "mean                       50.492970             504684.136333   \n",
      "std                        28.791415             289944.084972   \n",
      "min                         0.500000                424.000000   \n",
      "25%                        25.757500             255805.250000   \n",
      "50%                        50.795000             504513.000000   \n",
      "75%                        75.630000             758088.500000   \n",
      "max                        99.990000             999635.000000   \n",
      "\n",
      "       Incident Resolution Time (in Hours)  \n",
      "count                          3000.000000  \n",
      "mean                             36.476000  \n",
      "std                              20.570768  \n",
      "min                               1.000000  \n",
      "25%                              19.000000  \n",
      "50%                              37.000000  \n",
      "75%                              55.000000  \n",
      "max                              72.000000  \n"
     ]
    }
   ],
   "source": [
    "numerical_stats = df.describe()[['Financial Loss (in Million $)', 'Number of Affected Users', 'Incident Resolution Time (in Hours)']]\n",
    "print(numerical_stats)"
   ]
  },
  {
   "cell_type": "markdown",
   "id": "30184bc0",
   "metadata": {},
   "source": [
    "# Distribution of categorical variables"
   ]
  },
  {
   "cell_type": "code",
   "execution_count": 23,
   "id": "387b8345",
   "metadata": {},
   "outputs": [
    {
     "name": "stdout",
     "output_type": "stream",
     "text": [
      "\n",
      "Distribution of Attack Types:\n",
      "Attack Type\n",
      "DDoS                 531\n",
      "Phishing             529\n",
      "SQL Injection        503\n",
      "Ransomware           493\n",
      "Malware              485\n",
      "Man-in-the-Middle    459\n",
      "Name: count, dtype: int64\n",
      "\n",
      "Distribution of Target Industries:\n",
      "Target Industry\n",
      "IT                    478\n",
      "Banking               445\n",
      "Healthcare            429\n",
      "Retail                423\n",
      "Education             419\n",
      "Telecommunications    403\n",
      "Government            403\n",
      "Name: count, dtype: int64\n"
     ]
    }
   ],
   "source": [
    "print(\"\\nDistribution of Attack Types:\")\n",
    "print(df['Attack Type'].value_counts())\n",
    "\n",
    "print(\"\\nDistribution of Target Industries:\")\n",
    "print(df['Target Industry'].value_counts())"
   ]
  }
 ],
 "metadata": {
  "kernelspec": {
   "display_name": "ML",
   "language": "python",
   "name": "python3"
  },
  "language_info": {
   "codemirror_mode": {
    "name": "ipython",
    "version": 3
   },
   "file_extension": ".py",
   "mimetype": "text/x-python",
   "name": "python",
   "nbconvert_exporter": "python",
   "pygments_lexer": "ipython3",
   "version": "3.11.8"
  }
 },
 "nbformat": 4,
 "nbformat_minor": 5
}
